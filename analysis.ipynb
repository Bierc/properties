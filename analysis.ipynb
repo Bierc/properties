{
 "cells": [
  {
   "cell_type": "code",
   "execution_count": 3,
   "metadata": {},
   "outputs": [],
   "source": [
    "import pandas as pd\n",
    "import sklearn\n",
    "import matplotlib.pyplot as plt\n",
    "import seaborn as sns  \n",
    "import numpy as np\n",
    "from sklearn.model_selection import train_test_split\n",
    "from sklearn.linear_model import LinearRegression\n",
    "from sklearn import metrics\n",
    "from sklearn.preprocessing import StandardScaler"
   ]
  },
  {
   "cell_type": "code",
   "execution_count": 92,
   "metadata": {},
   "outputs": [
    {
     "data": {
      "text/html": [
       "<div>\n",
       "<style scoped>\n",
       "    .dataframe tbody tr th:only-of-type {\n",
       "        vertical-align: middle;\n",
       "    }\n",
       "\n",
       "    .dataframe tbody tr th {\n",
       "        vertical-align: top;\n",
       "    }\n",
       "\n",
       "    .dataframe thead th {\n",
       "        text-align: right;\n",
       "    }\n",
       "</style>\n",
       "<table border=\"1\" class=\"dataframe\">\n",
       "  <thead>\n",
       "    <tr style=\"text-align: right;\">\n",
       "      <th></th>\n",
       "      <th>Tipo</th>\n",
       "      <th>Bairro</th>\n",
       "      <th>Cidade</th>\n",
       "      <th>Vagas</th>\n",
       "      <th>Quartos</th>\n",
       "      <th>Area</th>\n",
       "      <th>Banheiros</th>\n",
       "      <th>Preco</th>\n",
       "    </tr>\n",
       "  </thead>\n",
       "  <tbody>\n",
       "    <tr>\n",
       "      <th>0</th>\n",
       "      <td>Casa</td>\n",
       "      <td>São João</td>\n",
       "      <td>Curitiba</td>\n",
       "      <td>10</td>\n",
       "      <td>4</td>\n",
       "      <td>1340</td>\n",
       "      <td>10</td>\n",
       "      <td>1.300000e+09</td>\n",
       "    </tr>\n",
       "    <tr>\n",
       "      <th>1</th>\n",
       "      <td>Casa</td>\n",
       "      <td>Cacupé</td>\n",
       "      <td>Florianópolis</td>\n",
       "      <td>5</td>\n",
       "      <td>5</td>\n",
       "      <td>580</td>\n",
       "      <td>5</td>\n",
       "      <td>1.300000e+09</td>\n",
       "    </tr>\n",
       "    <tr>\n",
       "      <th>2</th>\n",
       "      <td>Casa</td>\n",
       "      <td>Alphaville Graciosa</td>\n",
       "      <td>Pinhais</td>\n",
       "      <td>6</td>\n",
       "      <td>4</td>\n",
       "      <td>585</td>\n",
       "      <td>1</td>\n",
       "      <td>7.950000e+08</td>\n",
       "    </tr>\n",
       "    <tr>\n",
       "      <th>3</th>\n",
       "      <td>Casa</td>\n",
       "      <td>Santa Felicidade</td>\n",
       "      <td>Curitiba</td>\n",
       "      <td>14</td>\n",
       "      <td>4</td>\n",
       "      <td>622</td>\n",
       "      <td>7</td>\n",
       "      <td>7.800000e+08</td>\n",
       "    </tr>\n",
       "    <tr>\n",
       "      <th>4</th>\n",
       "      <td>Apartamento</td>\n",
       "      <td>Ecoville</td>\n",
       "      <td>Curitiba</td>\n",
       "      <td>0</td>\n",
       "      <td>4</td>\n",
       "      <td>380</td>\n",
       "      <td>0</td>\n",
       "      <td>7.211303e+08</td>\n",
       "    </tr>\n",
       "  </tbody>\n",
       "</table>\n",
       "</div>"
      ],
      "text/plain": [
       "          Tipo               Bairro         Cidade  Vagas  Quartos  Area  \\\n",
       "0         Casa             São João       Curitiba     10        4  1340   \n",
       "1         Casa               Cacupé  Florianópolis      5        5   580   \n",
       "2         Casa  Alphaville Graciosa        Pinhais      6        4   585   \n",
       "3         Casa     Santa Felicidade       Curitiba     14        4   622   \n",
       "4  Apartamento             Ecoville       Curitiba      0        4   380   \n",
       "\n",
       "   Banheiros         Preco  \n",
       "0         10  1.300000e+09  \n",
       "1          5  1.300000e+09  \n",
       "2          1  7.950000e+08  \n",
       "3          7  7.800000e+08  \n",
       "4          0  7.211303e+08  "
      ]
     },
     "execution_count": 92,
     "metadata": {},
     "output_type": "execute_result"
    }
   ],
   "source": [
    "\n",
    "# Read in the data\n",
    "df = pd.read_csv('data/data2.csv')\n",
    "# show the first 5 rows\n",
    "df.head()"
   ]
  },
  {
   "cell_type": "code",
   "execution_count": 6,
   "metadata": {},
   "outputs": [
    {
     "data": {
      "text/plain": [
       "Tipo          object\n",
       "Bairro        object\n",
       "Cidade        object\n",
       "Vagas          int64\n",
       "Quartos        int64\n",
       "Area           int64\n",
       "Banheiros      int64\n",
       "Preco        float64\n",
       "dtype: object"
      ]
     },
     "execution_count": 6,
     "metadata": {},
     "output_type": "execute_result"
    }
   ],
   "source": [
    "# generate descriptive statistics of price column\n",
    "df.dtypes\n"
   ]
  },
  {
   "cell_type": "code",
   "execution_count": 36,
   "metadata": {},
   "outputs": [
    {
     "name": "stdout",
     "output_type": "stream",
     "text": [
      "Quartos      0.369919\n",
      "Banheiros    0.363010\n",
      "Vagas        0.326278\n",
      "Name: Preco, dtype: float64\n"
     ]
    },
    {
     "name": "stderr",
     "output_type": "stream",
     "text": [
      "C:\\Users\\Pablo\\AppData\\Local\\Temp\\ipykernel_3124\\1854479924.py:2: FutureWarning: The default value of numeric_only in DataFrame.corr is deprecated. In a future version, it will default to False. Select only valid columns or specify the value of numeric_only to silence this warning.\n",
      "  correlation_matrix = df.corr()\n"
     ]
    }
   ],
   "source": [
    "# Show the tree columns with the highest correlation with price\n",
    "correlation_matrix = df.corr()\n",
    "\n",
    "\n",
    "# Sort the correlations with \"Preco\" in descending order and exclude the \"Preco\" itself\n",
    "top_correlations = correlation_matrix['Preco'].sort_values(ascending=False)[1:]\n",
    "\n",
    "# Get the top three correlated columns\n",
    "top_3_correlated = top_correlations.head(3)\n",
    "\n",
    "print(top_3_correlated)\n",
    "\n"
   ]
  },
  {
   "cell_type": "code",
   "execution_count": 38,
   "metadata": {},
   "outputs": [
    {
     "name": "stderr",
     "output_type": "stream",
     "text": [
      "C:\\Users\\Pablo\\AppData\\Local\\Temp\\ipykernel_3124\\2625340915.py:4: UserWarning: \n",
      "\n",
      "`distplot` is a deprecated function and will be removed in seaborn v0.14.0.\n",
      "\n",
      "Please adapt your code to use either `displot` (a figure-level function with\n",
      "similar flexibility) or `histplot` (an axes-level function for histograms).\n",
      "\n",
      "For a guide to updating your code to use the new functions, please see\n",
      "https://gist.github.com/mwaskom/de44147ed2974457ad6372750bbe5751\n",
      "\n",
      "  sns.distplot(df['Preco'])\n"
     ]
    },
    {
     "data": {
      "image/png": "[encoded data removed]",
      "text/plain": [
       "<Figure size 1000x600 with 1 Axes>"
      ]
     },
     "metadata": {},
     "output_type": "display_data"
    }
   ],
   "source": [
    "# Show the histogram of the prices\n",
    "plt.figure(figsize=(10,6))\n",
    "plt.tight_layout()\n",
    "sns.distplot(df['Preco'])\n",
    "\n",
    "\n",
    "plt.show()\n"
   ]
  },
  {
   "cell_type": "code",
   "execution_count": 96,
   "metadata": {},
   "outputs": [
    {
     "data": {
      "text/html": [
       "<div>\n",
       "<style scoped>\n",
       "    .dataframe tbody tr th:only-of-type {\n",
       "        vertical-align: middle;\n",
       "    }\n",
       "\n",
       "    .dataframe tbody tr th {\n",
       "        vertical-align: top;\n",
       "    }\n",
       "\n",
       "    .dataframe thead th {\n",
       "        text-align: right;\n",
       "    }\n",
       "</style>\n",
       "<table border=\"1\" class=\"dataframe\">\n",
       "  <thead>\n",
       "    <tr style=\"text-align: right;\">\n",
       "      <th></th>\n",
       "      <th>Vagas</th>\n",
       "      <th>Quartos</th>\n",
       "      <th>Area</th>\n",
       "      <th>Banheiros</th>\n",
       "      <th>Preco</th>\n",
       "    </tr>\n",
       "  </thead>\n",
       "  <tbody>\n",
       "    <tr>\n",
       "      <th>count</th>\n",
       "      <td>4315.000000</td>\n",
       "      <td>4315.000000</td>\n",
       "      <td>4315.000000</td>\n",
       "      <td>4315.000000</td>\n",
       "      <td>4.314000e+03</td>\n",
       "    </tr>\n",
       "    <tr>\n",
       "      <th>mean</th>\n",
       "      <td>1.694786</td>\n",
       "      <td>2.756895</td>\n",
       "      <td>137.742758</td>\n",
       "      <td>1.857706</td>\n",
       "      <td>6.146267e+07</td>\n",
       "    </tr>\n",
       "    <tr>\n",
       "      <th>std</th>\n",
       "      <td>1.534115</td>\n",
       "      <td>0.943462</td>\n",
       "      <td>404.990598</td>\n",
       "      <td>1.163563</td>\n",
       "      <td>7.144207e+07</td>\n",
       "    </tr>\n",
       "    <tr>\n",
       "      <th>min</th>\n",
       "      <td>0.000000</td>\n",
       "      <td>0.000000</td>\n",
       "      <td>0.000000</td>\n",
       "      <td>0.000000</td>\n",
       "      <td>1.090000e+07</td>\n",
       "    </tr>\n",
       "    <tr>\n",
       "      <th>25%</th>\n",
       "      <td>1.000000</td>\n",
       "      <td>2.000000</td>\n",
       "      <td>65.000000</td>\n",
       "      <td>1.000000</td>\n",
       "      <td>2.699000e+07</td>\n",
       "    </tr>\n",
       "    <tr>\n",
       "      <th>50%</th>\n",
       "      <td>1.000000</td>\n",
       "      <td>3.000000</td>\n",
       "      <td>103.000000</td>\n",
       "      <td>2.000000</td>\n",
       "      <td>4.200000e+07</td>\n",
       "    </tr>\n",
       "    <tr>\n",
       "      <th>75%</th>\n",
       "      <td>2.000000</td>\n",
       "      <td>3.000000</td>\n",
       "      <td>160.000000</td>\n",
       "      <td>2.000000</td>\n",
       "      <td>6.999000e+07</td>\n",
       "    </tr>\n",
       "    <tr>\n",
       "      <th>max</th>\n",
       "      <td>24.000000</td>\n",
       "      <td>10.000000</td>\n",
       "      <td>24000.000000</td>\n",
       "      <td>10.000000</td>\n",
       "      <td>1.300000e+09</td>\n",
       "    </tr>\n",
       "  </tbody>\n",
       "</table>\n",
       "</div>"
      ],
      "text/plain": [
       "             Vagas      Quartos          Area    Banheiros         Preco\n",
       "count  4315.000000  4315.000000   4315.000000  4315.000000  4.314000e+03\n",
       "mean      1.694786     2.756895    137.742758     1.857706  6.146267e+07\n",
       "std       1.534115     0.943462    404.990598     1.163563  7.144207e+07\n",
       "min       0.000000     0.000000      0.000000     0.000000  1.090000e+07\n",
       "25%       1.000000     2.000000     65.000000     1.000000  2.699000e+07\n",
       "50%       1.000000     3.000000    103.000000     2.000000  4.200000e+07\n",
       "75%       2.000000     3.000000    160.000000     2.000000  6.999000e+07\n",
       "max      24.000000    10.000000  24000.000000    10.000000  1.300000e+09"
      ]
     },
     "execution_count": 96,
     "metadata": {},
     "output_type": "execute_result"
    }
   ],
   "source": [
    "df.describe()"
   ]
  },
  {
   "cell_type": "code",
   "execution_count": 42,
   "metadata": {},
   "outputs": [
    {
     "name": "stderr",
     "output_type": "stream",
     "text": [
      "C:\\Users\\Pablo\\AppData\\Local\\Temp\\ipykernel_3124\\125643205.py:2: FutureWarning: The default value of numeric_only in DataFrameGroupBy.mean is deprecated. In a future version, numeric_only will default to False. Either specify numeric_only or select only columns which should be valid for the function.\n",
      "  df.groupby('Tipo').mean()\n"
     ]
    },
    {
     "data": {
      "text/plain": [
       "<AxesSubplot: xlabel='Tipo', ylabel='Preco'>"
      ]
     },
     "execution_count": 42,
     "metadata": {},
     "output_type": "execute_result"
    },
    {
     "data": {
      "image/png": "[encoded data removed]",
      "text/plain": [
       "<Figure size 1000x600 with 1 Axes>"
      ]
     },
     "metadata": {},
     "output_type": "display_data"
    }
   ],
   "source": [
    "df['Tipo'].unique()\n",
    "df.groupby('Tipo').mean()\n",
    "\n",
    "# Show the boxplot of the prices by type\n",
    "plt.figure(figsize=(10,6))\n",
    "plt.tight_layout()\n",
    "sns.boxplot(x='Tipo',y='Preco',data=df)\n",
    "\n"
   ]
  },
  {
   "cell_type": "code",
   "execution_count": 95,
   "metadata": {},
   "outputs": [
    {
     "data": {
      "text/html": [
       "<div>\n",
       "<style scoped>\n",
       "    .dataframe tbody tr th:only-of-type {\n",
       "        vertical-align: middle;\n",
       "    }\n",
       "\n",
       "    .dataframe tbody tr th {\n",
       "        vertical-align: top;\n",
       "    }\n",
       "\n",
       "    .dataframe thead th {\n",
       "        text-align: right;\n",
       "    }\n",
       "</style>\n",
       "<table border=\"1\" class=\"dataframe\">\n",
       "  <thead>\n",
       "    <tr style=\"text-align: right;\">\n",
       "      <th></th>\n",
       "      <th>Total</th>\n",
       "    </tr>\n",
       "    <tr>\n",
       "      <th>Cidade</th>\n",
       "      <th></th>\n",
       "    </tr>\n",
       "  </thead>\n",
       "  <tbody>\n",
       "    <tr>\n",
       "      <th>Curitiba</th>\n",
       "      <td>2315</td>\n",
       "    </tr>\n",
       "    <tr>\n",
       "      <th>Pato Branco</th>\n",
       "      <td>292</td>\n",
       "    </tr>\n",
       "    <tr>\n",
       "      <th>Colombo</th>\n",
       "      <td>292</td>\n",
       "    </tr>\n",
       "    <tr>\n",
       "      <th>São José Dos Pinhais</th>\n",
       "      <td>211</td>\n",
       "    </tr>\n",
       "    <tr>\n",
       "      <th>Ponta Grossa</th>\n",
       "      <td>168</td>\n",
       "    </tr>\n",
       "    <tr>\n",
       "      <th>Pinhais</th>\n",
       "      <td>145</td>\n",
       "    </tr>\n",
       "    <tr>\n",
       "      <th>Campo Largo</th>\n",
       "      <td>119</td>\n",
       "    </tr>\n",
       "    <tr>\n",
       "      <th>Itapoá</th>\n",
       "      <td>119</td>\n",
       "    </tr>\n",
       "    <tr>\n",
       "      <th>Matinhos</th>\n",
       "      <td>117</td>\n",
       "    </tr>\n",
       "    <tr>\n",
       "      <th>Almirante Tamandaré</th>\n",
       "      <td>97</td>\n",
       "    </tr>\n",
       "  </tbody>\n",
       "</table>\n",
       "</div>"
      ],
      "text/plain": [
       "                      Total\n",
       "Cidade                     \n",
       "Curitiba               2315\n",
       "Pato Branco             292\n",
       "Colombo                 292\n",
       "São José Dos Pinhais    211\n",
       "Ponta Grossa            168\n",
       "Pinhais                 145\n",
       "Campo Largo             119\n",
       "Itapoá                  119\n",
       "Matinhos                117\n",
       "Almirante Tamandaré      97"
      ]
     },
     "execution_count": 95,
     "metadata": {},
     "output_type": "execute_result"
    }
   ],
   "source": [
    "df.groupby('Cidade').count().reindex(['Preco'], axis=1).rename(columns={'Preco': 'Total'}).sort_values(by='Total', ascending=False).head(10)"
   ]
  },
  {
   "cell_type": "code",
   "execution_count": 94,
   "metadata": {},
   "outputs": [
    {
     "data": {
      "text/html": [
       "<div>\n",
       "<style scoped>\n",
       "    .dataframe tbody tr th:only-of-type {\n",
       "        vertical-align: middle;\n",
       "    }\n",
       "\n",
       "    .dataframe tbody tr th {\n",
       "        vertical-align: top;\n",
       "    }\n",
       "\n",
       "    .dataframe thead th {\n",
       "        text-align: right;\n",
       "    }\n",
       "</style>\n",
       "<table border=\"1\" class=\"dataframe\">\n",
       "  <thead>\n",
       "    <tr style=\"text-align: right;\">\n",
       "      <th></th>\n",
       "      <th>Total</th>\n",
       "    </tr>\n",
       "    <tr>\n",
       "      <th>Bairro</th>\n",
       "      <th></th>\n",
       "    </tr>\n",
       "  </thead>\n",
       "  <tbody>\n",
       "    <tr>\n",
       "      <th>Centro</th>\n",
       "      <td>117</td>\n",
       "    </tr>\n",
       "    <tr>\n",
       "      <th>Água Verde</th>\n",
       "      <td>108</td>\n",
       "    </tr>\n",
       "    <tr>\n",
       "      <th>Santa Cândida</th>\n",
       "      <td>106</td>\n",
       "    </tr>\n",
       "    <tr>\n",
       "      <th>Uberaba</th>\n",
       "      <td>95</td>\n",
       "    </tr>\n",
       "    <tr>\n",
       "      <th>Cidade Industrial</th>\n",
       "      <td>95</td>\n",
       "    </tr>\n",
       "    <tr>\n",
       "      <th>Portão</th>\n",
       "      <td>83</td>\n",
       "    </tr>\n",
       "    <tr>\n",
       "      <th>Boqueirão</th>\n",
       "      <td>80</td>\n",
       "    </tr>\n",
       "    <tr>\n",
       "      <th>Boa Vista</th>\n",
       "      <td>72</td>\n",
       "    </tr>\n",
       "    <tr>\n",
       "      <th>Mossunguê</th>\n",
       "      <td>69</td>\n",
       "    </tr>\n",
       "    <tr>\n",
       "      <th>Bairro Alto</th>\n",
       "      <td>67</td>\n",
       "    </tr>\n",
       "  </tbody>\n",
       "</table>\n",
       "</div>"
      ],
      "text/plain": [
       "                   Total\n",
       "Bairro                  \n",
       "Centro               117\n",
       "Água Verde           108\n",
       "Santa Cândida        106\n",
       "Uberaba               95\n",
       "Cidade Industrial     95\n",
       "Portão                83\n",
       "Boqueirão             80\n",
       "Boa Vista             72\n",
       "Mossunguê             69\n",
       "Bairro Alto           67"
      ]
     },
     "execution_count": 94,
     "metadata": {},
     "output_type": "execute_result"
    }
   ],
   "source": [
    "\n",
    "df[df['Cidade'] == 'Curitiba'].groupby('Bairro').count().reindex(['Preco'], axis=1).rename(columns={'Preco': 'Total'}).sort_values(by='Total', ascending=False).head(10)"
   ]
  },
  {
   "cell_type": "code",
   "execution_count": null,
   "metadata": {},
   "outputs": [],
   "source": []
  }
 ],
 "metadata": {
  "kernelspec": {
   "display_name": "Python 3",
   "language": "python",
   "name": "python3"
  },
  "language_info": {
   "codemirror_mode": {
    "name": "ipython",
    "version": 3
   },
   "file_extension": ".py",
   "mimetype": "text/x-python",
   "name": "python",
   "nbconvert_exporter": "python",
   "pygments_lexer": "ipython3",
   "version": "3.10.7"
  }
 },
 "nbformat": 4,
 "nbformat_minor": 2
}
