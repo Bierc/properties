{
 "cells": [
  {
   "cell_type": "code",
   "execution_count": 2,
   "metadata": {},
   "outputs": [],
   "source": [
    "import pandas as pd\n",
    "import sklearn\n",
    "import matplotlib.pyplot as plt\n",
    "import seaborn as sns  \n",
    "import numpy as np\n",
    "from sklearn.model_selection import train_test_split\n",
    "from sklearn.linear_model import LinearRegression\n",
    "from sklearn import metrics\n",
    "from sklearn.preprocessing import StandardScaler"
   ]
  },
  {
   "cell_type": "code",
   "execution_count": 51,
   "metadata": {},
   "outputs": [
    {
     "data": {
      "text/html": [
       "<div>\n",
       "<style scoped>\n",
       "    .dataframe tbody tr th:only-of-type {\n",
       "        vertical-align: middle;\n",
       "    }\n",
       "\n",
       "    .dataframe tbody tr th {\n",
       "        vertical-align: top;\n",
       "    }\n",
       "\n",
       "    .dataframe thead th {\n",
       "        text-align: right;\n",
       "    }\n",
       "</style>\n",
       "<table border=\"1\" class=\"dataframe\">\n",
       "  <thead>\n",
       "    <tr style=\"text-align: right;\">\n",
       "      <th></th>\n",
       "      <th>Tipo</th>\n",
       "      <th>Cidade</th>\n",
       "      <th>Estado</th>\n",
       "      <th>Vagas</th>\n",
       "      <th>Quartos</th>\n",
       "      <th>Area</th>\n",
       "      <th>Banheiros</th>\n",
       "      <th>Preco</th>\n",
       "    </tr>\n",
       "  </thead>\n",
       "  <tbody>\n",
       "    <tr>\n",
       "      <th>0</th>\n",
       "      <td>Casa</td>\n",
       "      <td>São João</td>\n",
       "      <td>Curitiba</td>\n",
       "      <td>10 vagas</td>\n",
       "      <td>4 quartos</td>\n",
       "      <td>1340 m²</td>\n",
       "      <td>10</td>\n",
       "      <td>R$ 13.000.000,00</td>\n",
       "    </tr>\n",
       "    <tr>\n",
       "      <th>1</th>\n",
       "      <td>Casa</td>\n",
       "      <td>Cacupé</td>\n",
       "      <td>Florianópolis</td>\n",
       "      <td>5 vagas</td>\n",
       "      <td>5 quartos</td>\n",
       "      <td>580 m²</td>\n",
       "      <td>5</td>\n",
       "      <td>R$ 13.000.000,00</td>\n",
       "    </tr>\n",
       "    <tr>\n",
       "      <th>2</th>\n",
       "      <td>Casa</td>\n",
       "      <td>Alphaville Graciosa</td>\n",
       "      <td>Pinhais</td>\n",
       "      <td>6 vagas</td>\n",
       "      <td>4 quartos</td>\n",
       "      <td>585 m²</td>\n",
       "      <td>1</td>\n",
       "      <td>R$ 7.950.000,00</td>\n",
       "    </tr>\n",
       "    <tr>\n",
       "      <th>3</th>\n",
       "      <td>Casa</td>\n",
       "      <td>Santa Felicidade</td>\n",
       "      <td>Curitiba</td>\n",
       "      <td>14 vagas</td>\n",
       "      <td>4 quartos</td>\n",
       "      <td>622 m²</td>\n",
       "      <td>7</td>\n",
       "      <td>R$ 7.800.000,00</td>\n",
       "    </tr>\n",
       "    <tr>\n",
       "      <th>4</th>\n",
       "      <td>Apartamento</td>\n",
       "      <td>Ecoville</td>\n",
       "      <td>Curitiba</td>\n",
       "      <td>0 vaga</td>\n",
       "      <td>4 quartos</td>\n",
       "      <td>380 m²</td>\n",
       "      <td>0</td>\n",
       "      <td>R$ 7.211.303,00</td>\n",
       "    </tr>\n",
       "  </tbody>\n",
       "</table>\n",
       "</div>"
      ],
      "text/plain": [
       "          Tipo               Cidade         Estado     Vagas    Quartos  \\\n",
       "0         Casa             São João       Curitiba  10 vagas  4 quartos   \n",
       "1         Casa               Cacupé  Florianópolis   5 vagas  5 quartos   \n",
       "2         Casa  Alphaville Graciosa        Pinhais   6 vagas  4 quartos   \n",
       "3         Casa     Santa Felicidade       Curitiba  14 vagas  4 quartos   \n",
       "4  Apartamento             Ecoville       Curitiba    0 vaga  4 quartos   \n",
       "\n",
       "      Area  Banheiros             Preco  \n",
       "0  1340 m²         10  R$ 13.000.000,00  \n",
       "1   580 m²          5  R$ 13.000.000,00  \n",
       "2   585 m²          1   R$ 7.950.000,00  \n",
       "3   622 m²          7   R$ 7.800.000,00  \n",
       "4   380 m²          0   R$ 7.211.303,00  "
      ]
     },
     "execution_count": 51,
     "metadata": {},
     "output_type": "execute_result"
    }
   ],
   "source": [
    "\n",
    "# Read in the data\n",
    "df = pd.read_csv('data/data.csv')\n",
    "# show the first 5 rows\n",
    "df.head()"
   ]
  },
  {
   "cell_type": "code",
   "execution_count": 54,
   "metadata": {},
   "outputs": [
    {
     "data": {
      "text/plain": [
       "count              4314\n",
       "unique              819\n",
       "top       R$ 250.000,00\n",
       "freq                 81\n",
       "Name: Preco, dtype: object"
      ]
     },
     "execution_count": 54,
     "metadata": {},
     "output_type": "execute_result"
    }
   ],
   "source": [
    "# generate descriptive statistics of price column\n",
    "df['Preco'].describe()\n"
   ]
  },
  {
   "cell_type": "code",
   "execution_count": 56,
   "metadata": {},
   "outputs": [],
   "source": [
    "columns_to_clean = ['Area', 'Quartos', 'Vagas', 'Preco']\n",
    "\n",
    "for column in columns_to_clean:\n",
    "    df[column] = pd.to_numeric(df[column].astype(str).str.replace('[^\\d.]', '', regex=True), errors='coerce')\n"
   ]
  },
  {
   "cell_type": "code",
   "execution_count": 57,
   "metadata": {},
   "outputs": [
    {
     "name": "stdout",
     "output_type": "stream",
     "text": [
      "Banheiros    0.565352\n",
      "Quartos      0.447650\n",
      "Vagas        0.389100\n",
      "Name: Preco, dtype: float64\n"
     ]
    },
    {
     "name": "stderr",
     "output_type": "stream",
     "text": [
      "C:\\Users\\Pablo\\AppData\\Local\\Temp\\ipykernel_9800\\1854479924.py:2: FutureWarning: The default value of numeric_only in DataFrame.corr is deprecated. In a future version, it will default to False. Select only valid columns or specify the value of numeric_only to silence this warning.\n",
      "  correlation_matrix = df.corr()\n"
     ]
    }
   ],
   "source": [
    "# Show the tree columns with the highest correlation with price\n",
    "correlation_matrix = df.corr()\n",
    "\n",
    "\n",
    "# Sort the correlations with \"Preco\" in descending order and exclude the \"Preco\" itself\n",
    "top_correlations = correlation_matrix['Preco'].sort_values(ascending=False)[1:]\n",
    "\n",
    "# Get the top three correlated columns\n",
    "top_3_correlated = top_correlations.head(3)\n",
    "\n",
    "print(top_3_correlated)\n",
    "\n"
   ]
  },
  {
   "cell_type": "code",
   "execution_count": null,
   "metadata": {},
   "outputs": [],
   "source": []
  }
 ],
 "metadata": {
  "kernelspec": {
   "display_name": "Python 3",
   "language": "python",
   "name": "python3"
  },
  "language_info": {
   "codemirror_mode": {
    "name": "ipython",
    "version": 3
   },
   "file_extension": ".py",
   "mimetype": "text/x-python",
   "name": "python",
   "nbconvert_exporter": "python",
   "pygments_lexer": "ipython3",
   "version": "3.10.7"
  }
 },
 "nbformat": 4,
 "nbformat_minor": 2
}
